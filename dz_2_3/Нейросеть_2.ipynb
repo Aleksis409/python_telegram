{
  "nbformat": 4,
  "nbformat_minor": 0,
  "metadata": {
    "colab": {
      "provenance": [],
      "gpuType": "T4",
      "toc_visible": true,
      "authorship_tag": "ABX9TyOlMXAZd8YpOmsyAK9aGQua",
      "include_colab_link": true
    },
    "kernelspec": {
      "name": "python3",
      "display_name": "Python 3"
    },
    "language_info": {
      "name": "python"
    },
    "accelerator": "GPU"
  },
  "cells": [
    {
      "cell_type": "markdown",
      "metadata": {
        "id": "view-in-github",
        "colab_type": "text"
      },
      "source": [
        "<a href=\"https://colab.research.google.com/github/Aleksis409/python_telegram/blob/main/dz_2_3/%D0%9D%D0%B5%D0%B9%D1%80%D0%BE%D1%81%D0%B5%D1%82%D1%8C_2.ipynb\" target=\"_parent\"><img src=\"https://colab.research.google.com/assets/colab-badge.svg\" alt=\"Open In Colab\"/></a>"
      ]
    },
    {
      "cell_type": "code",
      "execution_count": 3,
      "metadata": {
        "colab": {
          "base_uri": "https://localhost:8080/"
        },
        "id": "kTmfaYVWSFOT",
        "outputId": "f080e2b9-6645-4389-eeb6-dfbae2767044"
      },
      "outputs": [
        {
          "output_type": "stream",
          "name": "stdout",
          "text": [
            "Collecting opendatasets\n",
            "  Downloading opendatasets-0.1.22-py3-none-any.whl (15 kB)\n",
            "Requirement already satisfied: tqdm in /usr/local/lib/python3.10/dist-packages (from opendatasets) (4.66.2)\n",
            "Requirement already satisfied: kaggle in /usr/local/lib/python3.10/dist-packages (from opendatasets) (1.5.16)\n",
            "Requirement already satisfied: click in /usr/local/lib/python3.10/dist-packages (from opendatasets) (8.1.7)\n",
            "Requirement already satisfied: six>=1.10 in /usr/local/lib/python3.10/dist-packages (from kaggle->opendatasets) (1.16.0)\n",
            "Requirement already satisfied: certifi in /usr/local/lib/python3.10/dist-packages (from kaggle->opendatasets) (2024.2.2)\n",
            "Requirement already satisfied: python-dateutil in /usr/local/lib/python3.10/dist-packages (from kaggle->opendatasets) (2.8.2)\n",
            "Requirement already satisfied: requests in /usr/local/lib/python3.10/dist-packages (from kaggle->opendatasets) (2.31.0)\n",
            "Requirement already satisfied: python-slugify in /usr/local/lib/python3.10/dist-packages (from kaggle->opendatasets) (8.0.4)\n",
            "Requirement already satisfied: urllib3 in /usr/local/lib/python3.10/dist-packages (from kaggle->opendatasets) (2.0.7)\n",
            "Requirement already satisfied: bleach in /usr/local/lib/python3.10/dist-packages (from kaggle->opendatasets) (6.1.0)\n",
            "Requirement already satisfied: webencodings in /usr/local/lib/python3.10/dist-packages (from bleach->kaggle->opendatasets) (0.5.1)\n",
            "Requirement already satisfied: text-unidecode>=1.3 in /usr/local/lib/python3.10/dist-packages (from python-slugify->kaggle->opendatasets) (1.3)\n",
            "Requirement already satisfied: charset-normalizer<4,>=2 in /usr/local/lib/python3.10/dist-packages (from requests->kaggle->opendatasets) (3.3.2)\n",
            "Requirement already satisfied: idna<4,>=2.5 in /usr/local/lib/python3.10/dist-packages (from requests->kaggle->opendatasets) (3.6)\n",
            "Installing collected packages: opendatasets\n",
            "Successfully installed opendatasets-0.1.22\n"
          ]
        }
      ],
      "source": [
        "!pip install opendatasets\n",
        "import opendatasets as od\n",
        "import pandas as pd\n",
        "from fastai.text.all import *"
      ]
    },
    {
      "cell_type": "code",
      "source": [
        "# od.download(\"https://www.kaggle.com/competitions/word2vec-nlp-tutorial/\")\n",
        "# !unzip/content/word2vec-nlp-tutorial/labeledTrainData.tsv.zip\n",
        "train = pd.read_csv(\"/content/word2vec-nlp-tutorial/labeledTrainData.tsv\", header=0, delimiter=\"\\t\", quoting=3)\n",
        "test = pd.read_csv(\"/content/word2vec-nlp-tutorial/testData.tsv\", header=0, delimiter=\"\\t\", quoting=3)"
      ],
      "metadata": {
        "id": "EFsejP6SVjzP"
      },
      "execution_count": 4,
      "outputs": []
    },
    {
      "cell_type": "code",
      "source": [
        "train.head()"
      ],
      "metadata": {
        "colab": {
          "base_uri": "https://localhost:8080/",
          "height": 397
        },
        "id": "Yx2kuwfqfV5P",
        "outputId": "0b81ac95-b976-4a62-bf84-f7b7a12cbd02"
      },
      "execution_count": 5,
      "outputs": [
        {
          "output_type": "execute_result",
          "data": {
            "text/plain": [
              "         id  sentiment  \\\n",
              "0  \"5814_8\"          1   \n",
              "1  \"2381_9\"          1   \n",
              "2  \"7759_3\"          0   \n",
              "3  \"3630_4\"          0   \n",
              "4  \"9495_8\"          1   \n",
              "\n",
              "                                                                                                                                                                                                                                                                                                                                                                                                                                                                                                                                                                                                                    review  \n",
              "0  \"With all this stuff going down at the moment with MJ i've started listening to his music, watching the odd documentary here and there, watched The Wiz and watched Moonwalker again. Maybe i just want to get a certain insight into this guy who i thought was really cool in the eighties just to maybe make up my mind whether he is guilty or innocent. Moonwalker is part biography, part feature film which i remember going to see at the cinema when it was originally released. Some of it has subtle messages about MJ's feeling towards the press and also the obvious message of drugs are bad m'kay.<b...  \n",
              "1  \"\\\"The Classic War of the Worlds\\\" by Timothy Hines is a very entertaining film that obviously goes to great effort and lengths to faithfully recreate H. G. Wells' classic book. Mr. Hines succeeds in doing so. I, and those who watched his film with me, appreciated the fact that it was not the standard, predictable Hollywood fare that comes out every year, e.g. the Spielberg version with Tom Cruise that had only the slightest resemblance to the book. Obviously, everyone looks for different things in a movie. Those who envision themselves as amateur \\\"critics\\\" look only to criticize everyth...  \n",
              "2  \"The film starts with a manager (Nicholas Bell) giving welcome investors (Robert Carradine) to Primal Park . A secret project mutating a primal animal using fossilized DNA, like ¨Jurassik Park¨, and some scientists resurrect one of nature's most fearsome predators, the Sabretooth tiger or Smilodon . Scientific ambition turns deadly, however, and when the high voltage fence is opened the creature escape and begins savagely stalking its prey - the human visitors , tourists and scientific.Meanwhile some youngsters enter in the restricted area of the security center and are attacked by a pack ...  \n",
              "3  \"It must be assumed that those who praised this film (\\\"the greatest filmed opera ever,\\\" didn't I read somewhere?) either don't care for opera, don't care for Wagner, or don't care about anything except their desire to appear Cultured. Either as a representation of Wagner's swan-song, or as a movie, this strikes me as an unmitigated disaster, with a leaden reading of the score matched to a tricksy, lugubrious realisation of the text.<br /><br />It's questionable that people with ideas as to what an opera (or, for that matter, a play, especially one by Shakespeare) is \\\"about\\\" should be a...  \n",
              "4  \"Superbly trashy and wondrously unpretentious 80's exploitation, hooray! The pre-credits opening sequences somewhat give the false impression that we're dealing with a serious and harrowing drama, but you need not fear because barely ten minutes later we're up until our necks in nonsensical chainsaw battles, rough fist-fights, lurid dialogs and gratuitous nudity! Bo and Ingrid are two orphaned siblings with an unusually close and even slightly perverted relationship. Can you imagine playfully ripping off the towel that covers your sister's naked body and then stare at her unshaven genitals...  "
            ],
            "text/html": [
              "\n",
              "  <div id=\"df-7b176980-ccb2-4588-9351-ae8e6bb59f22\" class=\"colab-df-container\">\n",
              "    <div>\n",
              "<style scoped>\n",
              "    .dataframe tbody tr th:only-of-type {\n",
              "        vertical-align: middle;\n",
              "    }\n",
              "\n",
              "    .dataframe tbody tr th {\n",
              "        vertical-align: top;\n",
              "    }\n",
              "\n",
              "    .dataframe thead th {\n",
              "        text-align: right;\n",
              "    }\n",
              "</style>\n",
              "<table border=\"1\" class=\"dataframe\">\n",
              "  <thead>\n",
              "    <tr style=\"text-align: right;\">\n",
              "      <th></th>\n",
              "      <th>id</th>\n",
              "      <th>sentiment</th>\n",
              "      <th>review</th>\n",
              "    </tr>\n",
              "  </thead>\n",
              "  <tbody>\n",
              "    <tr>\n",
              "      <th>0</th>\n",
              "      <td>\"5814_8\"</td>\n",
              "      <td>1</td>\n",
              "      <td>\"With all this stuff going down at the moment with MJ i've started listening to his music, watching the odd documentary here and there, watched The Wiz and watched Moonwalker again. Maybe i just want to get a certain insight into this guy who i thought was really cool in the eighties just to maybe make up my mind whether he is guilty or innocent. Moonwalker is part biography, part feature film which i remember going to see at the cinema when it was originally released. Some of it has subtle messages about MJ's feeling towards the press and also the obvious message of drugs are bad m'kay.&lt;b...</td>\n",
              "    </tr>\n",
              "    <tr>\n",
              "      <th>1</th>\n",
              "      <td>\"2381_9\"</td>\n",
              "      <td>1</td>\n",
              "      <td>\"\\\"The Classic War of the Worlds\\\" by Timothy Hines is a very entertaining film that obviously goes to great effort and lengths to faithfully recreate H. G. Wells' classic book. Mr. Hines succeeds in doing so. I, and those who watched his film with me, appreciated the fact that it was not the standard, predictable Hollywood fare that comes out every year, e.g. the Spielberg version with Tom Cruise that had only the slightest resemblance to the book. Obviously, everyone looks for different things in a movie. Those who envision themselves as amateur \\\"critics\\\" look only to criticize everyth...</td>\n",
              "    </tr>\n",
              "    <tr>\n",
              "      <th>2</th>\n",
              "      <td>\"7759_3\"</td>\n",
              "      <td>0</td>\n",
              "      <td>\"The film starts with a manager (Nicholas Bell) giving welcome investors (Robert Carradine) to Primal Park . A secret project mutating a primal animal using fossilized DNA, like ¨Jurassik Park¨, and some scientists resurrect one of nature's most fearsome predators, the Sabretooth tiger or Smilodon . Scientific ambition turns deadly, however, and when the high voltage fence is opened the creature escape and begins savagely stalking its prey - the human visitors , tourists and scientific.Meanwhile some youngsters enter in the restricted area of the security center and are attacked by a pack ...</td>\n",
              "    </tr>\n",
              "    <tr>\n",
              "      <th>3</th>\n",
              "      <td>\"3630_4\"</td>\n",
              "      <td>0</td>\n",
              "      <td>\"It must be assumed that those who praised this film (\\\"the greatest filmed opera ever,\\\" didn't I read somewhere?) either don't care for opera, don't care for Wagner, or don't care about anything except their desire to appear Cultured. Either as a representation of Wagner's swan-song, or as a movie, this strikes me as an unmitigated disaster, with a leaden reading of the score matched to a tricksy, lugubrious realisation of the text.&lt;br /&gt;&lt;br /&gt;It's questionable that people with ideas as to what an opera (or, for that matter, a play, especially one by Shakespeare) is \\\"about\\\" should be a...</td>\n",
              "    </tr>\n",
              "    <tr>\n",
              "      <th>4</th>\n",
              "      <td>\"9495_8\"</td>\n",
              "      <td>1</td>\n",
              "      <td>\"Superbly trashy and wondrously unpretentious 80's exploitation, hooray! The pre-credits opening sequences somewhat give the false impression that we're dealing with a serious and harrowing drama, but you need not fear because barely ten minutes later we're up until our necks in nonsensical chainsaw battles, rough fist-fights, lurid dialogs and gratuitous nudity! Bo and Ingrid are two orphaned siblings with an unusually close and even slightly perverted relationship. Can you imagine playfully ripping off the towel that covers your sister's naked body and then stare at her unshaven genitals...</td>\n",
              "    </tr>\n",
              "  </tbody>\n",
              "</table>\n",
              "</div>\n",
              "    <div class=\"colab-df-buttons\">\n",
              "\n",
              "  <div class=\"colab-df-container\">\n",
              "    <button class=\"colab-df-convert\" onclick=\"convertToInteractive('df-7b176980-ccb2-4588-9351-ae8e6bb59f22')\"\n",
              "            title=\"Convert this dataframe to an interactive table.\"\n",
              "            style=\"display:none;\">\n",
              "\n",
              "  <svg xmlns=\"http://www.w3.org/2000/svg\" height=\"24px\" viewBox=\"0 -960 960 960\">\n",
              "    <path d=\"M120-120v-720h720v720H120Zm60-500h600v-160H180v160Zm220 220h160v-160H400v160Zm0 220h160v-160H400v160ZM180-400h160v-160H180v160Zm440 0h160v-160H620v160ZM180-180h160v-160H180v160Zm440 0h160v-160H620v160Z\"/>\n",
              "  </svg>\n",
              "    </button>\n",
              "\n",
              "  <style>\n",
              "    .colab-df-container {\n",
              "      display:flex;\n",
              "      gap: 12px;\n",
              "    }\n",
              "\n",
              "    .colab-df-convert {\n",
              "      background-color: #E8F0FE;\n",
              "      border: none;\n",
              "      border-radius: 50%;\n",
              "      cursor: pointer;\n",
              "      display: none;\n",
              "      fill: #1967D2;\n",
              "      height: 32px;\n",
              "      padding: 0 0 0 0;\n",
              "      width: 32px;\n",
              "    }\n",
              "\n",
              "    .colab-df-convert:hover {\n",
              "      background-color: #E2EBFA;\n",
              "      box-shadow: 0px 1px 2px rgba(60, 64, 67, 0.3), 0px 1px 3px 1px rgba(60, 64, 67, 0.15);\n",
              "      fill: #174EA6;\n",
              "    }\n",
              "\n",
              "    .colab-df-buttons div {\n",
              "      margin-bottom: 4px;\n",
              "    }\n",
              "\n",
              "    [theme=dark] .colab-df-convert {\n",
              "      background-color: #3B4455;\n",
              "      fill: #D2E3FC;\n",
              "    }\n",
              "\n",
              "    [theme=dark] .colab-df-convert:hover {\n",
              "      background-color: #434B5C;\n",
              "      box-shadow: 0px 1px 3px 1px rgba(0, 0, 0, 0.15);\n",
              "      filter: drop-shadow(0px 1px 2px rgba(0, 0, 0, 0.3));\n",
              "      fill: #FFFFFF;\n",
              "    }\n",
              "  </style>\n",
              "\n",
              "    <script>\n",
              "      const buttonEl =\n",
              "        document.querySelector('#df-7b176980-ccb2-4588-9351-ae8e6bb59f22 button.colab-df-convert');\n",
              "      buttonEl.style.display =\n",
              "        google.colab.kernel.accessAllowed ? 'block' : 'none';\n",
              "\n",
              "      async function convertToInteractive(key) {\n",
              "        const element = document.querySelector('#df-7b176980-ccb2-4588-9351-ae8e6bb59f22');\n",
              "        const dataTable =\n",
              "          await google.colab.kernel.invokeFunction('convertToInteractive',\n",
              "                                                    [key], {});\n",
              "        if (!dataTable) return;\n",
              "\n",
              "        const docLinkHtml = 'Like what you see? Visit the ' +\n",
              "          '<a target=\"_blank\" href=https://colab.research.google.com/notebooks/data_table.ipynb>data table notebook</a>'\n",
              "          + ' to learn more about interactive tables.';\n",
              "        element.innerHTML = '';\n",
              "        dataTable['output_type'] = 'display_data';\n",
              "        await google.colab.output.renderOutput(dataTable, element);\n",
              "        const docLink = document.createElement('div');\n",
              "        docLink.innerHTML = docLinkHtml;\n",
              "        element.appendChild(docLink);\n",
              "      }\n",
              "    </script>\n",
              "  </div>\n",
              "\n",
              "\n",
              "<div id=\"df-7aa2c75e-ee8e-4ab6-8e55-26c017f7091f\">\n",
              "  <button class=\"colab-df-quickchart\" onclick=\"quickchart('df-7aa2c75e-ee8e-4ab6-8e55-26c017f7091f')\"\n",
              "            title=\"Suggest charts\"\n",
              "            style=\"display:none;\">\n",
              "\n",
              "<svg xmlns=\"http://www.w3.org/2000/svg\" height=\"24px\"viewBox=\"0 0 24 24\"\n",
              "     width=\"24px\">\n",
              "    <g>\n",
              "        <path d=\"M19 3H5c-1.1 0-2 .9-2 2v14c0 1.1.9 2 2 2h14c1.1 0 2-.9 2-2V5c0-1.1-.9-2-2-2zM9 17H7v-7h2v7zm4 0h-2V7h2v10zm4 0h-2v-4h2v4z\"/>\n",
              "    </g>\n",
              "</svg>\n",
              "  </button>\n",
              "\n",
              "<style>\n",
              "  .colab-df-quickchart {\n",
              "      --bg-color: #E8F0FE;\n",
              "      --fill-color: #1967D2;\n",
              "      --hover-bg-color: #E2EBFA;\n",
              "      --hover-fill-color: #174EA6;\n",
              "      --disabled-fill-color: #AAA;\n",
              "      --disabled-bg-color: #DDD;\n",
              "  }\n",
              "\n",
              "  [theme=dark] .colab-df-quickchart {\n",
              "      --bg-color: #3B4455;\n",
              "      --fill-color: #D2E3FC;\n",
              "      --hover-bg-color: #434B5C;\n",
              "      --hover-fill-color: #FFFFFF;\n",
              "      --disabled-bg-color: #3B4455;\n",
              "      --disabled-fill-color: #666;\n",
              "  }\n",
              "\n",
              "  .colab-df-quickchart {\n",
              "    background-color: var(--bg-color);\n",
              "    border: none;\n",
              "    border-radius: 50%;\n",
              "    cursor: pointer;\n",
              "    display: none;\n",
              "    fill: var(--fill-color);\n",
              "    height: 32px;\n",
              "    padding: 0;\n",
              "    width: 32px;\n",
              "  }\n",
              "\n",
              "  .colab-df-quickchart:hover {\n",
              "    background-color: var(--hover-bg-color);\n",
              "    box-shadow: 0 1px 2px rgba(60, 64, 67, 0.3), 0 1px 3px 1px rgba(60, 64, 67, 0.15);\n",
              "    fill: var(--button-hover-fill-color);\n",
              "  }\n",
              "\n",
              "  .colab-df-quickchart-complete:disabled,\n",
              "  .colab-df-quickchart-complete:disabled:hover {\n",
              "    background-color: var(--disabled-bg-color);\n",
              "    fill: var(--disabled-fill-color);\n",
              "    box-shadow: none;\n",
              "  }\n",
              "\n",
              "  .colab-df-spinner {\n",
              "    border: 2px solid var(--fill-color);\n",
              "    border-color: transparent;\n",
              "    border-bottom-color: var(--fill-color);\n",
              "    animation:\n",
              "      spin 1s steps(1) infinite;\n",
              "  }\n",
              "\n",
              "  @keyframes spin {\n",
              "    0% {\n",
              "      border-color: transparent;\n",
              "      border-bottom-color: var(--fill-color);\n",
              "      border-left-color: var(--fill-color);\n",
              "    }\n",
              "    20% {\n",
              "      border-color: transparent;\n",
              "      border-left-color: var(--fill-color);\n",
              "      border-top-color: var(--fill-color);\n",
              "    }\n",
              "    30% {\n",
              "      border-color: transparent;\n",
              "      border-left-color: var(--fill-color);\n",
              "      border-top-color: var(--fill-color);\n",
              "      border-right-color: var(--fill-color);\n",
              "    }\n",
              "    40% {\n",
              "      border-color: transparent;\n",
              "      border-right-color: var(--fill-color);\n",
              "      border-top-color: var(--fill-color);\n",
              "    }\n",
              "    60% {\n",
              "      border-color: transparent;\n",
              "      border-right-color: var(--fill-color);\n",
              "    }\n",
              "    80% {\n",
              "      border-color: transparent;\n",
              "      border-right-color: var(--fill-color);\n",
              "      border-bottom-color: var(--fill-color);\n",
              "    }\n",
              "    90% {\n",
              "      border-color: transparent;\n",
              "      border-bottom-color: var(--fill-color);\n",
              "    }\n",
              "  }\n",
              "</style>\n",
              "\n",
              "  <script>\n",
              "    async function quickchart(key) {\n",
              "      const quickchartButtonEl =\n",
              "        document.querySelector('#' + key + ' button');\n",
              "      quickchartButtonEl.disabled = true;  // To prevent multiple clicks.\n",
              "      quickchartButtonEl.classList.add('colab-df-spinner');\n",
              "      try {\n",
              "        const charts = await google.colab.kernel.invokeFunction(\n",
              "            'suggestCharts', [key], {});\n",
              "      } catch (error) {\n",
              "        console.error('Error during call to suggestCharts:', error);\n",
              "      }\n",
              "      quickchartButtonEl.classList.remove('colab-df-spinner');\n",
              "      quickchartButtonEl.classList.add('colab-df-quickchart-complete');\n",
              "    }\n",
              "    (() => {\n",
              "      let quickchartButtonEl =\n",
              "        document.querySelector('#df-7aa2c75e-ee8e-4ab6-8e55-26c017f7091f button');\n",
              "      quickchartButtonEl.style.display =\n",
              "        google.colab.kernel.accessAllowed ? 'block' : 'none';\n",
              "    })();\n",
              "  </script>\n",
              "</div>\n",
              "    </div>\n",
              "  </div>\n"
            ],
            "application/vnd.google.colaboratory.intrinsic+json": {
              "type": "dataframe",
              "variable_name": "train",
              "summary": "{\n  \"name\": \"train\",\n  \"rows\": 792,\n  \"fields\": [\n    {\n      \"column\": \"id\",\n      \"properties\": {\n        \"dtype\": \"string\",\n        \"num_unique_values\": 792,\n        \"samples\": [\n          \"\\\"4697_7\\\"\",\n          \"\\\"7349_7\\\"\",\n          \"\\\"6434_7\\\"\"\n        ],\n        \"semantic_type\": \"\",\n        \"description\": \"\"\n      }\n    },\n    {\n      \"column\": \"sentiment\",\n      \"properties\": {\n        \"dtype\": \"number\",\n        \"std\": 0,\n        \"min\": 0,\n        \"max\": 1,\n        \"num_unique_values\": 2,\n        \"samples\": [\n          0,\n          1\n        ],\n        \"semantic_type\": \"\",\n        \"description\": \"\"\n      }\n    },\n    {\n      \"column\": \"review\",\n      \"properties\": {\n        \"dtype\": \"string\",\n        \"num_unique_values\": 792,\n        \"samples\": [\n          \"\\\"Michael Keaton is \\\\\\\"Johnny Dangerously\\\\\\\" in this take-off on gangster movies done in 1984. Maureen Stapleton plays his sickly mother, Griffin Dunne is his DA brother, Peter Boyle is his boss, and Marilu Henner is his girlfriend. Other stars include Danny DeVito and Joe Piscopo. Keaton plays a pet store owner in the 1930s who catches a kid stealing a puppy and then tells him, in flashback, how he came to own the pet store. He turned to thievery at a young age to get his mother a pancreas operation ($49.95, special this week) and began working for a mob boss (Boyle). Johnny uses the last name \\\\\\\"Dangerously\\\\\\\" in the mobster world.<br /><br />There are some hilarious scenes in this film, and Stapleton is a riot as Johnny's foul-mouthed mother who needs ever organ in her body replaced. Peter Boyle as Johnny's boss gives a very funny performance, as does Griffin Dunne, a straight arrow DA who won't \\\\\\\"play ball\\\\\\\" with crooked Burr (Danny De Vito). As Johnny's nemesis, Joe Piscopo is great. Richard Dimitri is a standout as Moronie, who tortures the English language - but you have to hear him do it rather than read about it. What makes it funny is that he does it all with an angry face.<br /><br />The movie gets a little tired toward the end, but it's well worth seeing, and Keaton is terrific as good boy/bad boy Johnny. For some reason, this film was underrated when it was released, and like Keaton's other gem, \\\\\\\"Night Shift,\\\\\\\" you don't hear much about it today. With some performances and scenes that are real gems, you'll find \\\\\\\"Johnny Dangerously\\\\\\\" immensely enjoyable.\\\"\",\n          \"\\\"Of course if you are reading my review you have seen this film already. 'Raja Babu' is one of my most favorite characters. I just love the concept of a spoiled brat with a 24*7 servant on his motorcycle. Watch movies and emulate characters etc etc. I love the scene when a stone cracks in Kader khans mouth while eating. Also where Shakti Kapoor narrates a corny story of Raja Babu's affairs on a dinner table and Govinda wearing 'dharam-veer' uniform makes sentimental remarks. Thats my favorite scene of the film. 'Achcha Pitaji To Main Chalta Hoon' scene is just chemistry between two great Indian actors doing a comical scene with no dialogs. Its brilliant. It's a cat mouse film. Just watch these actors helping each other and still taking away the scene from each other. Its total entertainment. If you like Govinda and Kader Khan chemistry then its a must. I think RB is 6th in my list by David Dhawan. 'Deewana Mastana', 'Ankhein','Shola or Shabnam', 'Swarg', Coolie no 1' precedes this gem of a film. 7/10.\\\"\"\n        ],\n        \"semantic_type\": \"\",\n        \"description\": \"\"\n      }\n    }\n  ]\n}"
            }
          },
          "metadata": {},
          "execution_count": 5
        }
      ]
    },
    {
      "cell_type": "code",
      "source": [
        "train.info()"
      ],
      "metadata": {
        "colab": {
          "base_uri": "https://localhost:8080/"
        },
        "id": "V_h6ihL3fbsg",
        "outputId": "8d057d9d-c9f7-4ac7-c4a7-6ee6c8df78e6"
      },
      "execution_count": 6,
      "outputs": [
        {
          "output_type": "stream",
          "name": "stdout",
          "text": [
            "<class 'pandas.core.frame.DataFrame'>\n",
            "RangeIndex: 792 entries, 0 to 791\n",
            "Data columns (total 3 columns):\n",
            " #   Column     Non-Null Count  Dtype \n",
            "---  ------     --------------  ----- \n",
            " 0   id         792 non-null    object\n",
            " 1   sentiment  792 non-null    int64 \n",
            " 2   review     792 non-null    object\n",
            "dtypes: int64(1), object(2)\n",
            "memory usage: 18.7+ KB\n"
          ]
        }
      ]
    },
    {
      "cell_type": "code",
      "source": [
        "dls = TextDataLoaders.from_df(train , seed= 1234567899, text_col=2,label_col = 1)\n",
        "dls.show_batch()"
      ],
      "metadata": {
        "colab": {
          "base_uri": "https://localhost:8080/",
          "height": 783
        },
        "id": "sNddewTvfdGQ",
        "outputId": "fb606c1a-6dcc-4329-9e09-736744d1f270"
      },
      "execution_count": 7,
      "outputs": [
        {
          "output_type": "display_data",
          "data": {
            "text/plain": [
              "<IPython.core.display.HTML object>"
            ],
            "text/html": [
              "\n",
              "<style>\n",
              "    /* Turns off some styling */\n",
              "    progress {\n",
              "        /* gets rid of default border in Firefox and Opera. */\n",
              "        border: none;\n",
              "        /* Needs to be in here for Safari polyfill so background images work as expected. */\n",
              "        background-size: auto;\n",
              "    }\n",
              "    progress:not([value]), progress:not([value])::-webkit-progress-bar {\n",
              "        background: repeating-linear-gradient(45deg, #7e7e7e, #7e7e7e 10px, #5c5c5c 10px, #5c5c5c 20px);\n",
              "    }\n",
              "    .progress-bar-interrupted, .progress-bar-interrupted::-webkit-progress-bar {\n",
              "        background: #F44336;\n",
              "    }\n",
              "</style>\n"
            ]
          },
          "metadata": {}
        },
        {
          "output_type": "display_data",
          "data": {
            "text/plain": [
              "<IPython.core.display.HTML object>"
            ],
            "text/html": []
          },
          "metadata": {}
        },
        {
          "output_type": "display_data",
          "data": {
            "text/plain": [
              "<IPython.core.display.HTML object>"
            ],
            "text/html": [
              "<table border=\"1\" class=\"dataframe\">\n",
              "  <thead>\n",
              "    <tr style=\"text-align: right;\">\n",
              "      <th></th>\n",
              "      <th>text</th>\n",
              "      <th>category</th>\n",
              "    </tr>\n",
              "  </thead>\n",
              "  <tbody>\n",
              "    <tr>\n",
              "      <th>0</th>\n",
              "      <td>xxbos \" warning : xxup possible xxup spoilers ( but not really - keep reading ) . a xxrep 3 h , there are so many reasons to become utterly addicted to this spoof gem that i wo n't have room to list them all . xxmaj the opening credits set the xxunk scene with xxunk late 1950s cartoon xxunk ; an xxunk xxmaj xxunk ' xxunk ' xxmaj xxunk xxunk theme which appears to be curiously uncredited ( but his xxunk are unmistakable , and no - one else did them ) ; and with familiar cast names , including xxmaj kathy xxmaj xxunk a full year before she hit with xxmaj sister xxmaj acts 1 &amp; 2 plus xxmaj xxunk xxmaj xxunk from tv 's xxmaj superman . \\n\\n xxmaj every scene is xxunk with shallow xxunk xxunk at various actors , actresses and producers in xxunk xxup</td>\n",
              "      <td>1</td>\n",
              "    </tr>\n",
              "    <tr>\n",
              "      <th>1</th>\n",
              "      <td>xxbos \" this film reminds me of 42nd xxmaj street starring xxmaj xxunk xxmaj daniels and xxmaj xxunk xxmaj xxunk . xxmaj when i watch this film a lot of it reminded me of 42nd xxmaj street , especially the character xxmaj xxunk who 's a temperamental star and she ends up falling and breaks her xxunk , like xxmaj xxunk xxmaj daniels did in 42nd xxmaj street and another performer gets the part and become a star . xxmaj this film , like most race films , keeps people watching because of the great entertainment . xxmaj race films always showed xxmaj black xxmaj entertainment as it truly was that was popular in that time era . xxmaj the xxmaj dancing xxmaj styles , xxmaj the xxmaj music , xxmaj dressing xxmaj styles , xxmaj you 'll xxmaj love xxmaj it . xxmaj this movie could of been big</td>\n",
              "      <td>1</td>\n",
              "    </tr>\n",
              "    <tr>\n",
              "      <th>2</th>\n",
              "      <td>xxbos \" title : xxmaj zombie 3 ( 1988 ) \\n\\n xxmaj directors : xxmaj mostly xxmaj lucio xxmaj fulci , but also xxmaj xxunk xxmaj fragasso and xxmaj bruno xxmaj mattei \\n\\n xxmaj cast : xxmaj xxunk xxunk , xxmaj xxunk xxmaj xxunk , xxmaj xxunk xxmaj ring , xxmaj xxunk xxmaj xxunk \\n\\n xxmaj review : \\n\\n xxmaj to review this flick and get some good background of it , i got ta start by the beginning . xxmaj and the beginning of this is really xxmaj george xxmaj xxunk xxmaj dawn of the xxmaj dead . xxmaj when xxmaj dawn came out in xxunk , xxmaj lucio xxmaj fulci decided to make an xxunk sequel to it and call it xxmaj zombie 2 . xxmaj that film is the one we know as plain xxunk xxmaj zombie . xxmaj you know the one in which the zombie</td>\n",
              "      <td>0</td>\n",
              "    </tr>\n",
              "    <tr>\n",
              "      <th>3</th>\n",
              "      <td>xxbos \" when a movie of a book seems pointless and incomprehensible , the cause can xxunk be found in the book : either it was pointless to start with , or the point is one not easily conveyed to film , or the movie missed the point , which is the most xxunk of these results , and the xxunk to happen , especially when the point is one not easily xxunk . xxmaj the book \" morvern xxmaj xxunk \" has a point ; every reader of the book must have felt this , and felt as if he had gotten it ; but i suspect most of them could not state it in words . xxmaj i 'm not sure i can , myself , but perhaps it comes to this , or something like it : xxmaj things come , things go , such is life</td>\n",
              "      <td>0</td>\n",
              "    </tr>\n",
              "    <tr>\n",
              "      <th>4</th>\n",
              "      <td>xxbos \" in what could have been seen as a coup towards the sexual \" revolution \" ( xxunk i use xxunk for that word ) , xxmaj jean xxmaj eustache wrote and directed xxmaj the xxmaj mother and the xxmaj whore as a poetic , damning critique of those who ca n't seem to get enough love . xxmaj if there is a message to this xxunk and xxmaj i 'd hope that the message would come only after the fact of what else this ben - xxunk length feature has to xxunk it 's that in order to love , honestly , there has to be some level of happiness , of real truth . xxmaj is it possible to have two lovers ? xxmaj some can try , but what is the outcome if no one can really have what they really want , or feel they</td>\n",
              "      <td>1</td>\n",
              "    </tr>\n",
              "    <tr>\n",
              "      <th>5</th>\n",
              "      <td>xxbos \" hello xxmaj mary xxmaj lou : xxmaj prom xxmaj night xxup ii starts at the xxmaj hamilton xxmaj high xxmaj school prom of xxunk where xxmaj mary xxmaj lou xxmaj xxunk ( xxunk xxmaj xxunk ) is cheating on her date xxmaj bill xxmaj xxunk ( steve xxmaj xxunk ) with xxmaj bud xxmaj cooper ( robert xxmaj lewis ) . xxmaj bill finds out &amp; is xxunk , xxunk xxmaj mary xxmaj lou is xxunk prom queen xxunk &amp; takes to the stage to accept her award . xxmaj bill , still xxunk , decides to play a practical joke on xxmaj mary xxmaj lou so he throws a xxunk on stage but the still lit xxunk catches xxmaj mary xxmaj lou 's dress setting it &amp; her on fire , within seconds xxmaj mary xxmaj lou is xxunk . 30 years later &amp; xxmaj hamilton xxmaj</td>\n",
              "      <td>0</td>\n",
              "    </tr>\n",
              "    <tr>\n",
              "      <th>6</th>\n",
              "      <td>xxbos \" somebody xxunk xxmaj ang xxmaj lee an xxunk . xxmaj actually , a lot of people do . xxmaj and xxmaj i 'll start . i was never interested in the xxmaj ang xxmaj lee film xxmaj hulk , because of the near xxunk bad reviews . xxmaj even the xxunk cable channels seemed to rarely show it . i finally decided to watch it yesterday on xxup usa network and , wow … . \\n\\n xxup spoilers xxup for xxup ang xxup lee 's xxup hulk xxup and xxup the xxup incredible xxup hulk \\n\\n xxmaj was it boring ! i almost did n't make it through xxmaj ang xxmaj lee 's xxmaj hulk . xxmaj eric xxmaj xxunk was expressionless , xxmaj nick xxmaj nolte was horrible , xxmaj sam xxmaj elliott was xxunk ( and that 's no fun , he 's usually a cool</td>\n",
              "      <td>0</td>\n",
              "    </tr>\n",
              "    <tr>\n",
              "      <th>7</th>\n",
              "      <td>xxbos \" way , way back in the 1980s , long before xxup xxunk was xxunk and corporations began to shed their national identities , the xxmaj united xxmaj states and xxmaj japan were at each other 's throat in the world xxunk race . xxmaj remember xxunk like ' union xxmaj yes ! , ' ' the xxmaj japanese are taking this country over , ' and ' americans are lazy ? ' \\n\\n xxmaj as the xxmaj reagan era winded down and corporations xxunk towards a global xxunk , director xxmaj ron xxmaj howard made one of several xxunk into the comedy genre with his 1986 smash ' gung xxmaj ho , ' which drew over $ xxunk million in xxup u.s . box office xxunk . xxmaj while in many ways dated , xxmaj howard 's tongue - in - cheek story of xxunk cultures in the</td>\n",
              "      <td>1</td>\n",
              "    </tr>\n",
              "    <tr>\n",
              "      <th>8</th>\n",
              "      <td>xxbos \" a xxunk cinematic xxunk of the late eighties and early xxunk was the number of xxmaj oscars which went to actors playing characters who were either physically or mentally handicapped . xxmaj the first was xxmaj xxunk xxmaj xxunk 's award for \" children of a xxmaj lesser xxmaj god \" in 1986 , and the next ten years were to see another \" best xxmaj actress \" award ( holly xxmaj hunter for \" the xxmaj piano \" in 1994 ) and no xxunk than five \" best xxmaj actor \" awards ( dustin xxmaj hoffman in 1988 for \" rain xxmaj man \" , xxmaj daniel day - lewis in xxunk for \" my xxmaj left xxmaj foot \" , xxmaj al xxmaj pacino in 1992 for \" xxunk of a xxmaj woman \" , xxmaj tom xxmaj hanks in 1994 for \" forrest xxmaj xxunk</td>\n",
              "      <td>1</td>\n",
              "    </tr>\n",
              "  </tbody>\n",
              "</table>"
            ]
          },
          "metadata": {}
        }
      ]
    },
    {
      "cell_type": "code",
      "source": [
        "learn = text_classifier_learner(dls, AWD_LSTM, drop_mult=0.5, metrics=accuracy,\n",
        "                                loss_func = CrossEntropyLossFlat())"
      ],
      "metadata": {
        "colab": {
          "base_uri": "https://localhost:8080/",
          "height": 37
        },
        "id": "QHeGLTbXgFZD",
        "outputId": "8a9c48c2-a329-438e-ccd5-3a4d65dc7cf8"
      },
      "execution_count": 8,
      "outputs": [
        {
          "output_type": "display_data",
          "data": {
            "text/plain": [
              "<IPython.core.display.HTML object>"
            ],
            "text/html": [
              "\n",
              "<style>\n",
              "    /* Turns off some styling */\n",
              "    progress {\n",
              "        /* gets rid of default border in Firefox and Opera. */\n",
              "        border: none;\n",
              "        /* Needs to be in here for Safari polyfill so background images work as expected. */\n",
              "        background-size: auto;\n",
              "    }\n",
              "    progress:not([value]), progress:not([value])::-webkit-progress-bar {\n",
              "        background: repeating-linear-gradient(45deg, #7e7e7e, #7e7e7e 10px, #5c5c5c 10px, #5c5c5c 20px);\n",
              "    }\n",
              "    .progress-bar-interrupted, .progress-bar-interrupted::-webkit-progress-bar {\n",
              "        background: #F44336;\n",
              "    }\n",
              "</style>\n"
            ]
          },
          "metadata": {}
        },
        {
          "output_type": "display_data",
          "data": {
            "text/plain": [
              "<IPython.core.display.HTML object>"
            ],
            "text/html": [
              "\n",
              "    <div>\n",
              "      <progress value='105070592' class='' max='105067061' style='width:300px; height:20px; vertical-align: middle;'></progress>\n",
              "      100.00% [105070592/105067061 00:02&lt;00:00]\n",
              "    </div>\n",
              "    "
            ]
          },
          "metadata": {}
        }
      ]
    },
    {
      "cell_type": "code",
      "source": [
        "learn.lr_find()"
      ],
      "metadata": {
        "colab": {
          "base_uri": "https://localhost:8080/",
          "height": 471
        },
        "id": "etRQuQfLhcCh",
        "outputId": "973a4945-9086-47e0-84bd-e9a77d4506d0"
      },
      "execution_count": 9,
      "outputs": [
        {
          "output_type": "display_data",
          "data": {
            "text/plain": [
              "<IPython.core.display.HTML object>"
            ],
            "text/html": [
              "\n",
              "<style>\n",
              "    /* Turns off some styling */\n",
              "    progress {\n",
              "        /* gets rid of default border in Firefox and Opera. */\n",
              "        border: none;\n",
              "        /* Needs to be in here for Safari polyfill so background images work as expected. */\n",
              "        background-size: auto;\n",
              "    }\n",
              "    progress:not([value]), progress:not([value])::-webkit-progress-bar {\n",
              "        background: repeating-linear-gradient(45deg, #7e7e7e, #7e7e7e 10px, #5c5c5c 10px, #5c5c5c 20px);\n",
              "    }\n",
              "    .progress-bar-interrupted, .progress-bar-interrupted::-webkit-progress-bar {\n",
              "        background: #F44336;\n",
              "    }\n",
              "</style>\n"
            ]
          },
          "metadata": {}
        },
        {
          "output_type": "display_data",
          "data": {
            "text/plain": [
              "<IPython.core.display.HTML object>"
            ],
            "text/html": []
          },
          "metadata": {}
        },
        {
          "output_type": "execute_result",
          "data": {
            "text/plain": [
              "SuggestedLRs(valley=0.005248074419796467)"
            ]
          },
          "metadata": {},
          "execution_count": 9
        },
        {
          "output_type": "display_data",
          "data": {
            "text/plain": [
              "<Figure size 640x480 with 1 Axes>"
            ],
            "image/png": "[encoded data removed]"
          },
          "metadata": {}
        }
      ]
    },
    {
      "cell_type": "code",
      "source": [
        "learn.fine_tune(10, 0.005)"
      ],
      "metadata": {
        "colab": {
          "base_uri": "https://localhost:8080/",
          "height": 427
        },
        "id": "9XXlbRnppdoC",
        "outputId": "90faefa2-fbb7-47b6-c833-78bc3d9cef55"
      },
      "execution_count": 11,
      "outputs": [
        {
          "output_type": "display_data",
          "data": {
            "text/plain": [
              "<IPython.core.display.HTML object>"
            ],
            "text/html": [
              "\n",
              "<style>\n",
              "    /* Turns off some styling */\n",
              "    progress {\n",
              "        /* gets rid of default border in Firefox and Opera. */\n",
              "        border: none;\n",
              "        /* Needs to be in here for Safari polyfill so background images work as expected. */\n",
              "        background-size: auto;\n",
              "    }\n",
              "    progress:not([value]), progress:not([value])::-webkit-progress-bar {\n",
              "        background: repeating-linear-gradient(45deg, #7e7e7e, #7e7e7e 10px, #5c5c5c 10px, #5c5c5c 20px);\n",
              "    }\n",
              "    .progress-bar-interrupted, .progress-bar-interrupted::-webkit-progress-bar {\n",
              "        background: #F44336;\n",
              "    }\n",
              "</style>\n"
            ]
          },
          "metadata": {}
        },
        {
          "output_type": "display_data",
          "data": {
            "text/plain": [
              "<IPython.core.display.HTML object>"
            ],
            "text/html": [
              "<table border=\"1\" class=\"dataframe\">\n",
              "  <thead>\n",
              "    <tr style=\"text-align: left;\">\n",
              "      <th>epoch</th>\n",
              "      <th>train_loss</th>\n",
              "      <th>valid_loss</th>\n",
              "      <th>accuracy</th>\n",
              "      <th>time</th>\n",
              "    </tr>\n",
              "  </thead>\n",
              "  <tbody>\n",
              "    <tr>\n",
              "      <td>0</td>\n",
              "      <td>0.670704</td>\n",
              "      <td>0.674690</td>\n",
              "      <td>0.493671</td>\n",
              "      <td>00:04</td>\n",
              "    </tr>\n",
              "  </tbody>\n",
              "</table>"
            ]
          },
          "metadata": {}
        },
        {
          "output_type": "display_data",
          "data": {
            "text/plain": [
              "<IPython.core.display.HTML object>"
            ],
            "text/html": [
              "\n",
              "<style>\n",
              "    /* Turns off some styling */\n",
              "    progress {\n",
              "        /* gets rid of default border in Firefox and Opera. */\n",
              "        border: none;\n",
              "        /* Needs to be in here for Safari polyfill so background images work as expected. */\n",
              "        background-size: auto;\n",
              "    }\n",
              "    progress:not([value]), progress:not([value])::-webkit-progress-bar {\n",
              "        background: repeating-linear-gradient(45deg, #7e7e7e, #7e7e7e 10px, #5c5c5c 10px, #5c5c5c 20px);\n",
              "    }\n",
              "    .progress-bar-interrupted, .progress-bar-interrupted::-webkit-progress-bar {\n",
              "        background: #F44336;\n",
              "    }\n",
              "</style>\n"
            ]
          },
          "metadata": {}
        },
        {
          "output_type": "display_data",
          "data": {
            "text/plain": [
              "<IPython.core.display.HTML object>"
            ],
            "text/html": [
              "<table border=\"1\" class=\"dataframe\">\n",
              "  <thead>\n",
              "    <tr style=\"text-align: left;\">\n",
              "      <th>epoch</th>\n",
              "      <th>train_loss</th>\n",
              "      <th>valid_loss</th>\n",
              "      <th>accuracy</th>\n",
              "      <th>time</th>\n",
              "    </tr>\n",
              "  </thead>\n",
              "  <tbody>\n",
              "    <tr>\n",
              "      <td>0</td>\n",
              "      <td>0.472854</td>\n",
              "      <td>0.656374</td>\n",
              "      <td>0.525316</td>\n",
              "      <td>00:10</td>\n",
              "    </tr>\n",
              "    <tr>\n",
              "      <td>1</td>\n",
              "      <td>0.442194</td>\n",
              "      <td>0.580950</td>\n",
              "      <td>0.708861</td>\n",
              "      <td>00:10</td>\n",
              "    </tr>\n",
              "    <tr>\n",
              "      <td>2</td>\n",
              "      <td>0.409060</td>\n",
              "      <td>0.472326</td>\n",
              "      <td>0.784810</td>\n",
              "      <td>00:10</td>\n",
              "    </tr>\n",
              "    <tr>\n",
              "      <td>3</td>\n",
              "      <td>0.372845</td>\n",
              "      <td>0.404676</td>\n",
              "      <td>0.841772</td>\n",
              "      <td>00:10</td>\n",
              "    </tr>\n",
              "    <tr>\n",
              "      <td>4</td>\n",
              "      <td>0.327124</td>\n",
              "      <td>0.476315</td>\n",
              "      <td>0.816456</td>\n",
              "      <td>00:10</td>\n",
              "    </tr>\n",
              "    <tr>\n",
              "      <td>5</td>\n",
              "      <td>0.291508</td>\n",
              "      <td>0.419890</td>\n",
              "      <td>0.797468</td>\n",
              "      <td>00:10</td>\n",
              "    </tr>\n",
              "    <tr>\n",
              "      <td>6</td>\n",
              "      <td>0.261311</td>\n",
              "      <td>0.494014</td>\n",
              "      <td>0.803797</td>\n",
              "      <td>00:10</td>\n",
              "    </tr>\n",
              "    <tr>\n",
              "      <td>7</td>\n",
              "      <td>0.229287</td>\n",
              "      <td>0.502860</td>\n",
              "      <td>0.791139</td>\n",
              "      <td>00:10</td>\n",
              "    </tr>\n",
              "    <tr>\n",
              "      <td>8</td>\n",
              "      <td>0.203419</td>\n",
              "      <td>0.498946</td>\n",
              "      <td>0.803797</td>\n",
              "      <td>00:10</td>\n",
              "    </tr>\n",
              "    <tr>\n",
              "      <td>9</td>\n",
              "      <td>0.182726</td>\n",
              "      <td>0.493683</td>\n",
              "      <td>0.816456</td>\n",
              "      <td>00:10</td>\n",
              "    </tr>\n",
              "  </tbody>\n",
              "</table>"
            ]
          },
          "metadata": {}
        }
      ]
    },
    {
      "cell_type": "code",
      "source": [
        "learn.show_results()"
      ],
      "metadata": {
        "colab": {
          "base_uri": "https://localhost:8080/",
          "height": 800
        },
        "id": "jIX_BMDkH6SS",
        "outputId": "843c21fd-bbe5-47aa-bba3-b114be0b6e2f"
      },
      "execution_count": 12,
      "outputs": [
        {
          "output_type": "display_data",
          "data": {
            "text/plain": [
              "<IPython.core.display.HTML object>"
            ],
            "text/html": [
              "\n",
              "<style>\n",
              "    /* Turns off some styling */\n",
              "    progress {\n",
              "        /* gets rid of default border in Firefox and Opera. */\n",
              "        border: none;\n",
              "        /* Needs to be in here for Safari polyfill so background images work as expected. */\n",
              "        background-size: auto;\n",
              "    }\n",
              "    progress:not([value]), progress:not([value])::-webkit-progress-bar {\n",
              "        background: repeating-linear-gradient(45deg, #7e7e7e, #7e7e7e 10px, #5c5c5c 10px, #5c5c5c 20px);\n",
              "    }\n",
              "    .progress-bar-interrupted, .progress-bar-interrupted::-webkit-progress-bar {\n",
              "        background: #F44336;\n",
              "    }\n",
              "</style>\n"
            ]
          },
          "metadata": {}
        },
        {
          "output_type": "display_data",
          "data": {
            "text/plain": [
              "<IPython.core.display.HTML object>"
            ],
            "text/html": []
          },
          "metadata": {}
        },
        {
          "output_type": "display_data",
          "data": {
            "text/plain": [
              "<IPython.core.display.HTML object>"
            ],
            "text/html": [
              "<table border=\"1\" class=\"dataframe\">\n",
              "  <thead>\n",
              "    <tr style=\"text-align: right;\">\n",
              "      <th></th>\n",
              "      <th>text</th>\n",
              "      <th>category</th>\n",
              "      <th>category_</th>\n",
              "    </tr>\n",
              "  </thead>\n",
              "  <tbody>\n",
              "    <tr>\n",
              "      <th>0</th>\n",
              "      <td>xxbos \" oh xxmaj dear xxmaj lord , xxmaj how on xxmaj earth was any part of this film ever xxunk by anyone ? xxmaj it xxunk of cheese from start to finish , but it 's not even good cheese . xxmaj it 's the xxunk , xxunk , most xxunk cheese there is , and i can not believe there is anyone out there who actually , truly enjoyed it . xxmaj yes , if you saw it with a load of drunk / stoned buddies then some bits might be funny in a sad kind of way , but for the rest of the audience the only entertaining parts are when said group of buddies are throwing popcorn and abusive insults at each other and the screen . i watched it with an up - for - a - few - laughs guy , having had a</td>\n",
              "      <td>0</td>\n",
              "      <td>0</td>\n",
              "    </tr>\n",
              "    <tr>\n",
              "      <th>1</th>\n",
              "      <td>xxbos \" anyone who knows me even remotely can tell you that i love bad movies almost as much as i love great ones , and i can honestly say that i have finally seen one of the all - time legendary bad movies : the almost xxunk mess that is xxup myra xxup breckinridge . xxmaj an adaptation of xxmaj gore xxmaj xxunk 's best - selling book ( he later xxunk this film version ) , the star - xxunk xxup myra xxup breckinridge is truly a movie so bad that it remains xxunk entertaining from beginning to end . xxmaj the xxmaj x - rated movie about sex change xxunk and xxmaj hollywood was an absolute catastrophe at the box office and was literally xxunk off the screen by both critics and audiences at the time of it 's release . xxmaj not surprisingly , the film</td>\n",
              "      <td>0</td>\n",
              "      <td>0</td>\n",
              "    </tr>\n",
              "    <tr>\n",
              "      <th>2</th>\n",
              "      <td>xxbos \" elegance and class are not always the first words that come to mind when folks ( at least folks who might do such a thing ) sit around and talk about film noir . \\n\\n xxmaj yet some of the best films of the genre , \" out of the xxmaj past , \" \" the xxmaj killers , \" \" in a xxmaj lonely xxmaj place , \" \" night and the xxmaj city , \" manage a level of xxunk xxunk that xxunk them beyond a moody catch xxunk and its xxunk of xxunk shadows , xxunk , and femme - xxunk . \\n\\n \" where the xxmaj sidewalk xxmaj ends , \" a fairly difficult to find film -- the only copy in perhaps the best xxunk video store in xxmaj manhattan was a rough xxunk from the xxup xxunk cable channel -- belongs in</td>\n",
              "      <td>1</td>\n",
              "      <td>1</td>\n",
              "    </tr>\n",
              "    <tr>\n",
              "      <th>3</th>\n",
              "      <td>xxbos \" this xxunk , short - lived series ( a xxunk two seasons ) is about as xxunk and unique as a xxunk driver going to a xxunk bar . i am not quite sure what they mean by \" ground - breaking \" and \" original \" when they xxunk all over xxmaj lynch and his silly little xxup tv opus . xxmaj what exactly is their xxunk of what is original ? xxmaj sure , compared to the \" bill xxmaj xxunk xxmaj show \" or \" hill xxmaj street xxmaj blues \" it 's original . xxmaj definitely . xxmaj next to \" law &amp; xxmaj order \" xxup tp xxunk originality left and right . \\n\\n xxmaj fans of xxup tp often say that the show was canceled because too many viewers were n't smart enough , open enough for the show 's supposed \"</td>\n",
              "      <td>0</td>\n",
              "      <td>0</td>\n",
              "    </tr>\n",
              "    <tr>\n",
              "      <th>4</th>\n",
              "      <td>xxbos \" the funny sound that you may hear when you xxunk this execrable version of xxmaj xxunk xxmaj xxunk 's classic \" journey to the xxmaj center of the xxmaj earth \" is xxmaj xxunk spinning in his grave . xxmaj the only thing about this 80 minute opus that has anything to do with \" journey to the xxmaj center of the xxmaj earth \" is the title . xxmaj otherwise , everything else in this lackluster production is new and not worth watching . xxmaj in fact , the director has written here at xxunk that he directed only eight minutes of \" journey to the xxmaj center of the xxmaj earth \" and the studio xxunk on part of \" xxunk \" xxunk xxmaj albert xxmaj pyun 's sequel to his own \" alien from xxup l.a . \" with xxmaj kathy xxmaj ireland . xxmaj</td>\n",
              "      <td>0</td>\n",
              "      <td>0</td>\n",
              "    </tr>\n",
              "    <tr>\n",
              "      <th>5</th>\n",
              "      <td>xxbos \" it 's interesting how 90 % of the high - vote reviews are all comprised of \" * random xxunk * \" from \" united xxmaj states \" ( no state pride ? ? ) who all say more or less the exact same thing with the exact same xxunk style and all with the exact same complete lack of taste in movies . i would delve further into this suspicious xxunk , but alas , this is a review of the movie , and not the reviews themselves . \\n\\n xxmaj let me start by saying that i am both a xxmaj christian and a true avid movie fan . xxmaj this means i have seen a great many movies , from good to bad , and can xxunk claim that xxmaj facing xxmaj the xxmaj giants is , in fact , xxup not a good movie</td>\n",
              "      <td>0</td>\n",
              "      <td>0</td>\n",
              "    </tr>\n",
              "    <tr>\n",
              "      <th>6</th>\n",
              "      <td>xxbos \" i 'm surprised at the comments from xxunk xxunk that xxmaj jane xxmaj powell made the same type of films xxmaj xxunk xxmaj durbin did . xxmaj although they were both young sopranos whose film images were crafted by xxmaj joe xxmaj xxunk , if this film is any indication , they were almost xxunk xxunk . \\n\\n xxmaj while , in xxup three xxup smart xxup girls , xxmaj durbin plays an xxunk \" little xxmaj miss xxmaj xxunk , \" who , after some xxunk , manages to reunite her divorced parents , in its ' semi - remake , xxup three xxup daring xxup daughters , xxmaj jane xxmaj powell almost destroys the marriage between her screen xxmaj mom xxmaj jeanette macdonald and new xxunk xxmaj jose xxmaj xxunk when she refuses to accept him and strong arms her younger siblings into xxunk him ,</td>\n",
              "      <td>1</td>\n",
              "      <td>1</td>\n",
              "    </tr>\n",
              "    <tr>\n",
              "      <th>7</th>\n",
              "      <td>xxbos \" \" well xxmaj chuck xxmaj jones is dead , lets xxunk his characters by adding cheap explosions , an xxmaj american drawn anime knock off style , and give them xxunk \" . \" but sir ? , do n't we all ready have several shows in the works that are already like this ? much less do n't xxunk all over their original creators dreams \" . \" yes ! and those shows make us a bunch of cash , and we need more ! \" . \" but wo n't every man women and child , who grew up with these time less characters , be annoyed ? \" . \" xxunk you 're right ! set it in the future , make them all xxunk 's of the original characters , and change all the names slightly … but not too much though , we</td>\n",
              "      <td>0</td>\n",
              "      <td>0</td>\n",
              "    </tr>\n",
              "    <tr>\n",
              "      <th>8</th>\n",
              "      <td>xxbos \" as a xxmaj xxunk xxmaj i 'm proud of the handful of good xxmaj danish movies that have been produced in recent years . xxmaj it 's a terrible shame , however , that this xxunk in quality has led the majority of xxmaj danish movie critics to lose their sense of criticism . xxmaj in fact , it has become so bad that i no longer trust any reviews of xxmaj danish movies , and as a result i have stopped watching them in theaters . \\n\\n i know it 's wrong to hold this unfortunate development against any one movie , so let me stress that \" villa xxmaj paranoia \" would be a terrible film under any circumstances . xxmaj the fact that it was hyped by the critics just added xxunk to my xxunk of xxunk with xxmaj danish film . xxmaj furthermore ,</td>\n",
              "      <td>0</td>\n",
              "      <td>0</td>\n",
              "    </tr>\n",
              "  </tbody>\n",
              "</table>"
            ]
          },
          "metadata": {}
        }
      ]
    }
  ]
}